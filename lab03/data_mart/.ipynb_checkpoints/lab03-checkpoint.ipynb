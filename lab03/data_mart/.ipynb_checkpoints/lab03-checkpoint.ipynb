{
 "cells": [
  {
   "cell_type": "code",
   "execution_count": 1,
   "metadata": {},
   "outputs": [
    {
     "name": "stdout",
     "output_type": "stream",
     "text": [
      "Welcome to\n",
      "      ____              __\n",
      "     / __/__  ___ _____/ /__\n",
      "    _\\ \\/ _ \\/ _ `/ __/  '_/\n",
      "   /__ / .__/\\_,_/_/ /_/\\_\\   version 2.4.7\n",
      "      /_/\n",
      "\n",
      "Using Python version 3.6.5 (default, Apr 29 2018 16:14:56)\n",
      "SparkSession available as 'spark'.\n"
     ]
    }
   ],
   "source": [
    "import os\n",
    "import sys\n",
    "import json \n",
    "\n",
    "os.environ[\"PYSPARK_PYTHON\"]='/opt/anaconda/envs/bd9/bin/python'\n",
    "os.environ[\"SPARK_HOME\"]='/usr/hdp/current/spark2-client'\n",
    "\n",
    "sparkClassPath = os.environ['PYSPARK_SUBMIT_ARGS'] = '--packages org.postgresql:postgresql:42.2.12,\\\n",
    "com.datastax.spark:spark-cassandra-connector_2.11:2.5.1,\\\n",
    "org.apache.spark:spark-sql_2.11:2.4.5,\\\n",
    "org.apache.spark:spark-core_2.11:2.4.5,\\\n",
    "org.elasticsearch:elasticsearch-spark-20_2.11:6.8.9\\\n",
    "    --conf spark.sql.extensions=com.datastax.spark.connector.CassandraSparkExtensions \\\n",
    "    --conf spark.cassandra.connection.host=10.0.0.31:9042 \\\n",
    "    --num-executors 2 pyspark-shell'\n",
    "spark_home = os.environ.get('SPARK_HOME', None)\n",
    "\n",
    "if not spark_home:\n",
    "    raise ValueError('SPARK_HOME environment variable is not set')\n",
    "\n",
    "sys.path.insert(0, os.path.join(spark_home, 'python'))\n",
    "sys.path.insert(0, os.path.join(spark_home, 'python/lib/py4j-0.10.7-src.zip'))\n",
    "exec(open(os.path.join(spark_home, 'python/pyspark/shell.py')).read())\n",
    "\n",
    "from pyspark import SparkContext, SQLContext\n",
    "from pyspark import SparkConf\n",
    "from pyspark.sql import SparkSession\n",
    "from pyspark.sql import functions as F\n",
    "from pyspark.sql.types import *\n",
    "from pyspark import Row\n",
    "import json\n",
    "\n",
    "conf = SparkConf()"
   ]
  },
  {
   "cell_type": "code",
   "execution_count": 2,
   "metadata": {},
   "outputs": [],
   "source": [
    "username = 'an_en'\n",
    "password = 'QjFvQaAt'"
   ]
  },
  {
   "cell_type": "code",
   "execution_count": 3,
   "metadata": {},
   "outputs": [
    {
     "data": {
      "text/plain": [
       "'--packages org.postgresql:postgresql:42.2.12,com.datastax.spark:spark-cassandra-connector_2.11:2.5.1,org.apache.spark:spark-sql_2.11:2.4.5,org.apache.spark:spark-core_2.11:2.4.5,org.elasticsearch:elasticsearch-spark-20_2.11:6.8.9    --conf spark.sql.extensions=com.datastax.spark.connector.CassandraSparkExtensions     --conf spark.cassandra.connection.host=10.0.0.31:9042     --num-executors 2 pyspark-shell'"
      ]
     },
     "execution_count": 3,
     "metadata": {},
     "output_type": "execute_result"
    }
   ],
   "source": [
    "sparkClassPath"
   ]
  },
  {
   "cell_type": "code",
   "execution_count": 4,
   "metadata": {},
   "outputs": [],
   "source": [
    "spark = SparkSession \\\n",
    "    .builder \\\n",
    "    .appName(\"postgresql\") \\\n",
    "    .config(\"spark.driver.extraClassPath\", sparkClassPath) \\\n",
    "    .getOrCreate()"
   ]
  },
  {
   "cell_type": "code",
   "execution_count": 5,
   "metadata": {},
   "outputs": [],
   "source": [
    "cl = spark.read\\\n",
    "    .format(\"org.apache.spark.sql.cassandra\")\\\n",
    "    .options(table='clients', keyspace='labdata')\\\n",
    "    .load()"
   ]
  },
  {
   "cell_type": "code",
   "execution_count": 6,
   "metadata": {},
   "outputs": [
    {
     "name": "stdout",
     "output_type": "stream",
     "text": [
      "+--------------------+---+------+\n",
      "|                 uid|age|gender|\n",
      "+--------------------+---+------+\n",
      "|11e547b6-56d6-425...| 41|     M|\n",
      "|e3fc9877-17ab-43c...| 41|     F|\n",
      "|51e1ba47-4fdc-478...| 26|     M|\n",
      "|b7dbbe11-7014-47b...| 39|     F|\n",
      "|71468232-08ca-47d...| 45|     M|\n",
      "|1938ca7c-0183-41c...| 36|     M|\n",
      "|202d60d4-82ed-4b8...| 29|     M|\n",
      "|cda38eb6-9181-4b5...| 20|     M|\n",
      "|09028c92-4b8c-49d...| 28|     F|\n",
      "|eb1985f7-3420-419...| 39|     M|\n",
      "|ee7c01dd-97fd-490...| 42|     F|\n",
      "|490fa7eb-9ee9-48d...| 31|     M|\n",
      "|ddc22da6-d9ca-455...| 30|     F|\n",
      "|c79315e4-6359-4de...| 32|     F|\n",
      "|54ba39bc-7bba-46c...| 22|     F|\n",
      "|8c9ed38d-ac3b-4e5...| 40|     F|\n",
      "|c38b2fcc-c3a5-400...| 18|     M|\n",
      "|1bd92405-ee5f-4db...| 47|     M|\n",
      "|7e315509-db0c-44d...| 36|     M|\n",
      "|83535f41-8c1c-4da...| 26|     M|\n",
      "+--------------------+---+------+\n",
      "only showing top 20 rows\n",
      "\n"
     ]
    }
   ],
   "source": [
    "cl.show()"
   ]
  },
  {
   "cell_type": "code",
   "execution_count": 7,
   "metadata": {},
   "outputs": [
    {
     "data": {
      "text/plain": [
       "36138"
      ]
     },
     "execution_count": 7,
     "metadata": {},
     "output_type": "execute_result"
    }
   ],
   "source": [
    "cl.count()"
   ]
  },
  {
   "cell_type": "code",
   "execution_count": 8,
   "metadata": {},
   "outputs": [
    {
     "data": {
      "text/plain": [
       "36138"
      ]
     },
     "execution_count": 8,
     "metadata": {},
     "output_type": "execute_result"
    }
   ],
   "source": [
    "cl.select(\"uid\").distinct().count()"
   ]
  },
  {
   "cell_type": "code",
   "execution_count": 9,
   "metadata": {},
   "outputs": [],
   "source": [
    "cl_ = cl.select(\"uid\", \n",
    "                \"gender\", \n",
    "                F.expr(\"CASE WHEN age <= 24 THEN '18-24' \\\n",
    "                        WHEN age <= 34 THEN '25-34' \\\n",
    "                        WHEN age <= 44 THEN '35-44' \\\n",
    "                        WHEN age <= 54 THEN '45-54' \\\n",
    "                        ELSE '>=55' END AS age_cat\"))"
   ]
  },
  {
   "cell_type": "code",
   "execution_count": 10,
   "metadata": {},
   "outputs": [
    {
     "name": "stdout",
     "output_type": "stream",
     "text": [
      "+--------------------+------+-------+\n",
      "|                 uid|gender|age_cat|\n",
      "+--------------------+------+-------+\n",
      "|11e547b6-56d6-425...|     M|  35-44|\n",
      "|e3fc9877-17ab-43c...|     F|  35-44|\n",
      "|51e1ba47-4fdc-478...|     M|  25-34|\n",
      "|b7dbbe11-7014-47b...|     F|  35-44|\n",
      "|71468232-08ca-47d...|     M|  45-54|\n",
      "|1938ca7c-0183-41c...|     M|  35-44|\n",
      "|202d60d4-82ed-4b8...|     M|  25-34|\n",
      "|cda38eb6-9181-4b5...|     M|  18-24|\n",
      "|09028c92-4b8c-49d...|     F|  25-34|\n",
      "|eb1985f7-3420-419...|     M|  35-44|\n",
      "|ee7c01dd-97fd-490...|     F|  35-44|\n",
      "|490fa7eb-9ee9-48d...|     M|  25-34|\n",
      "|ddc22da6-d9ca-455...|     F|  25-34|\n",
      "|c79315e4-6359-4de...|     F|  25-34|\n",
      "|54ba39bc-7bba-46c...|     F|  18-24|\n",
      "|8c9ed38d-ac3b-4e5...|     F|  35-44|\n",
      "|c38b2fcc-c3a5-400...|     M|  18-24|\n",
      "|1bd92405-ee5f-4db...|     M|  45-54|\n",
      "|7e315509-db0c-44d...|     M|  35-44|\n",
      "|83535f41-8c1c-4da...|     M|  25-34|\n",
      "+--------------------+------+-------+\n",
      "only showing top 20 rows\n",
      "\n"
     ]
    }
   ],
   "source": [
    "cl_.show()"
   ]
  },
  {
   "cell_type": "code",
   "execution_count": 11,
   "metadata": {},
   "outputs": [],
   "source": [
    "cats = spark.read \\\n",
    "    .format(\"jdbc\") \\\n",
    "    .option(\"url\", \"jdbc:postgresql://10.0.0.31:5432/labdata\") \\\n",
    "    .option(\"dbtable\", \"domain_cats\") \\\n",
    "    .option(\"user\", username) \\\n",
    "    .option(\"password\", password) \\\n",
    "    .option(\"driver\", \"org.postgresql.Driver\") \\\n",
    "    .load()"
   ]
  },
  {
   "cell_type": "code",
   "execution_count": 12,
   "metadata": {},
   "outputs": [
    {
     "name": "stdout",
     "output_type": "stream",
     "text": [
      "+--------------------+--------+\n",
      "|              domain|category|\n",
      "+--------------------+--------+\n",
      "|national-lottery....|gambling|\n",
      "|          rivalo.com|gambling|\n",
      "|             xoso.me|gambling|\n",
      "|         betin.co.ke|gambling|\n",
      "|          skybet.com|gambling|\n",
      "|              fdj.fr|gambling|\n",
      "|     minhngoc.net.vn|gambling|\n",
      "|   hollywoodbets.net|gambling|\n",
      "|           tipico.de|gambling|\n",
      "|       betpawa.co.ke|gambling|\n",
      "|           bet365.it|gambling|\n",
      "|          bet365.com|gambling|\n",
      "|loteriasdominican...|gambling|\n",
      "|            hkjc.com|gambling|\n",
      "|        sunmaker.com|gambling|\n",
      "|     williamhill.com|gambling|\n",
      "|       parimatch.com|gambling|\n",
      "|        freebitco.in|gambling|\n",
      "|   mismarcadores.com|gambling|\n",
      "|      flashscore.com|gambling|\n",
      "+--------------------+--------+\n",
      "only showing top 20 rows\n",
      "\n"
     ]
    }
   ],
   "source": [
    "cats.show()"
   ]
  },
  {
   "cell_type": "code",
   "execution_count": 13,
   "metadata": {},
   "outputs": [
    {
     "data": {
      "text/plain": [
       "245981"
      ]
     },
     "execution_count": 13,
     "metadata": {},
     "output_type": "execute_result"
    }
   ],
   "source": [
    "cats.count()"
   ]
  },
  {
   "cell_type": "code",
   "execution_count": 14,
   "metadata": {},
   "outputs": [],
   "source": [
    "cats_ = cats.withColumn('category', F.concat(F.lit('web_'), F.col('category')))"
   ]
  },
  {
   "cell_type": "code",
   "execution_count": 15,
   "metadata": {},
   "outputs": [
    {
     "name": "stdout",
     "output_type": "stream",
     "text": [
      "+--------------------+------------+\n",
      "|              domain|    category|\n",
      "+--------------------+------------+\n",
      "|national-lottery....|web_gambling|\n",
      "|          rivalo.com|web_gambling|\n",
      "|             xoso.me|web_gambling|\n",
      "|         betin.co.ke|web_gambling|\n",
      "|          skybet.com|web_gambling|\n",
      "|              fdj.fr|web_gambling|\n",
      "|     minhngoc.net.vn|web_gambling|\n",
      "|   hollywoodbets.net|web_gambling|\n",
      "|           tipico.de|web_gambling|\n",
      "|       betpawa.co.ke|web_gambling|\n",
      "|           bet365.it|web_gambling|\n",
      "|          bet365.com|web_gambling|\n",
      "|loteriasdominican...|web_gambling|\n",
      "|            hkjc.com|web_gambling|\n",
      "|        sunmaker.com|web_gambling|\n",
      "|     williamhill.com|web_gambling|\n",
      "|       parimatch.com|web_gambling|\n",
      "|        freebitco.in|web_gambling|\n",
      "|   mismarcadores.com|web_gambling|\n",
      "|      flashscore.com|web_gambling|\n",
      "+--------------------+------------+\n",
      "only showing top 20 rows\n",
      "\n"
     ]
    }
   ],
   "source": [
    "cats_.show()"
   ]
  },
  {
   "cell_type": "code",
   "execution_count": 16,
   "metadata": {},
   "outputs": [],
   "source": [
    "visits = spark.read\\\n",
    "    .format(\"org.elasticsearch.spark.sql\")\\\n",
    "    .option(\"es.nodes\",\"10.0.0.31\")\\\n",
    "    .option(\"es.port\",\"9200\")\\\n",
    "    .option(\"user\", username) \\\n",
    "    .option(\"password\", password) \\\n",
    "    .load(\"visits\")"
   ]
  },
  {
   "cell_type": "code",
   "execution_count": 17,
   "metadata": {},
   "outputs": [
    {
     "name": "stdout",
     "output_type": "stream",
     "text": [
      "+--------------------+----------+--------------------+----------+-------------------+--------------------+\n",
      "|            category|event_type|             item_id|item_price|          timestamp|                 uid|\n",
      "+--------------------+----------+--------------------+----------+-------------------+--------------------+\n",
      "|Entertainment-equ...|       buy|Entertainment-equ...|      2529|2020-01-01 11:00:00|40b29579-e845-45c...|\n",
      "|    Everyday-jewelry|       buy|  Everyday-jewelry-0|      4320|2020-01-01 11:01:00|                null|\n",
      "|             Cameras|      view|           Cameras-1|      1856|2020-01-01 11:02:00|ab0e7dd1-5899-488...|\n",
      "|             Luggage|      view|           Luggage-7|      4975|2020-01-01 11:02:00|                null|\n",
      "|       Mobile-phones|      view|    Mobile-phones-10|      3981|2020-01-01 11:03:00|d1206327-0e9f-410...|\n",
      "|    Everyday-jewelry|       buy|  Everyday-jewelry-0|      4786|2020-01-01 11:03:00|                null|\n",
      "|             Cameras|      view|          Cameras-15|       312|2020-01-01 11:03:00|6d5212d9-73eb-434...|\n",
      "|             Luggage|       buy|          Luggage-19|      2194|2020-01-01 11:04:00|                null|\n",
      "|    Sports-equipment|       buy| Sports-equipment-15|      1541|2020-01-01 11:04:00|                null|\n",
      "| Household-furniture|      view|Household-furnitu...|      3744|2020-01-01 11:05:00|                null|\n",
      "|House-repairs-pai...|      view|House-repairs-pai...|      3331|2020-01-01 11:05:00|63c58d8b-1529-4d0...|\n",
      "|             Cameras|      view|           Cameras-4|      2840|2020-01-01 11:06:00|4c514886-327a-4d5...|\n",
      "|           Computers|      view|         Computers-8|       489|2020-01-01 11:06:00|bb811c53-77c7-43a...|\n",
      "|               Shoes|      view|             Shoes-4|      3823|2020-01-01 11:06:00|9e25ab5d-a775-4af...|\n",
      "|           Computers|      view|        Computers-13|      3883|2020-01-01 11:07:00|1f39bee6-917b-4ae...|\n",
      "|       Mobile-phones|      view|    Mobile-phones-13|      4193|2020-01-01 11:08:00|cfd73ff8-2c0e-47f...|\n",
      "|Household-appliances|      view|Household-applian...|      4540|2020-01-01 11:08:00|0a54eae2-43ac-4f8...|\n",
      "|            Clothing|       buy|         Clothing-18|      4564|2020-01-01 11:08:00|b0133bf3-c9eb-461...|\n",
      "|Entertainment-equ...|      view|Entertainment-equ...|       666|2020-01-01 11:09:00|b9270841-65ed-432...|\n",
      "|    Sports-equipment|      view| Sports-equipment-13|      1218|2020-01-01 11:09:00|                null|\n",
      "+--------------------+----------+--------------------+----------+-------------------+--------------------+\n",
      "only showing top 20 rows\n",
      "\n"
     ]
    }
   ],
   "source": [
    "visits.show()"
   ]
  },
  {
   "cell_type": "code",
   "execution_count": 18,
   "metadata": {},
   "outputs": [
    {
     "data": {
      "text/plain": [
       "182540"
      ]
     },
     "execution_count": 18,
     "metadata": {},
     "output_type": "execute_result"
    }
   ],
   "source": [
    "visits.count()"
   ]
  },
  {
   "cell_type": "code",
   "execution_count": 19,
   "metadata": {},
   "outputs": [],
   "source": [
    "visits_ = visits\\\n",
    "    .where(\"uid is not null\")\\\n",
    "    .groupBy([\"uid\", \"category\"])\\\n",
    "    .count()\\\n",
    "    .withColumn('category', F.concat(F.lit('shop_'), \n",
    "                                     F.regexp_replace(F.regexp_replace(F.lower(F.col('category')), \n",
    "                                                                       '-', '_'), \n",
    "                                                      ' ', '_')))\\"
   ]
  },
  {
   "cell_type": "code",
   "execution_count": 20,
   "metadata": {},
   "outputs": [
    {
     "name": "stdout",
     "output_type": "stream",
     "text": [
      "+--------------------+--------------------+-----+\n",
      "|                 uid|            category|count|\n",
      "+--------------------+--------------------+-----+\n",
      "|6dfe90c6-4f9b-4ca...|shop_entertainmen...|    1|\n",
      "|7d3af085-9a09-406...|  shop_mobile_phones|    1|\n",
      "|d729321a-f8cc-450...|        shop_luggage|    1|\n",
      "|338ce75e-2008-4e0...|shop_household_ap...|    1|\n",
      "|654c462f-ae62-434...|      shop_cosmetics|    1|\n",
      "|f654d9dc-cab1-483...|        shop_cameras|    1|\n",
      "|b8006eab-0e29-4b9...|  shop_mobile_phones|    1|\n",
      "|ad1ef052-7547-4a5...|        shop_cameras|    1|\n",
      "|a91e59d5-a536-4f4...|shop_entertainmen...|    1|\n",
      "|118237ae-eff4-40c...|        shop_cameras|    1|\n",
      "|ab5b5d77-9f86-429...|shop_household_ap...|    1|\n",
      "|5f6d1707-0386-40f...|      shop_computers|    1|\n",
      "|7139d8e1-5eb9-41b...|        shop_cameras|    1|\n",
      "|c510d720-4480-477...|      shop_computers|    1|\n",
      "|4bede2dc-3754-49d...|shop_entertainmen...|    1|\n",
      "|af8f56b1-c183-4d9...|          shop_shoes|    1|\n",
      "|14e2498d-7c54-41c...|shop_household_ap...|    1|\n",
      "|4a88b3bf-3efb-4b4...|shop_household_fu...|    1|\n",
      "|2127f0dc-f55b-469...|  shop_mobile_phones|    1|\n",
      "|0e3a0ef7-7d2d-41e...|  shop_mobile_phones|    1|\n",
      "+--------------------+--------------------+-----+\n",
      "only showing top 20 rows\n",
      "\n"
     ]
    }
   ],
   "source": [
    "visits_.show()"
   ]
  },
  {
   "cell_type": "code",
   "execution_count": 21,
   "metadata": {},
   "outputs": [],
   "source": [
    "visits_pivot = visits_\\\n",
    "    .groupBy(\"uid\")\\\n",
    "    .pivot(\"category\")\\\n",
    "    .agg(F.sum(\"count\"))\\\n",
    "    .na.fill(value=0)"
   ]
  },
  {
   "cell_type": "code",
   "execution_count": 22,
   "metadata": {},
   "outputs": [
    {
     "name": "stdout",
     "output_type": "stream",
     "text": [
      "+--------------------+------------+-------------+--------------+--------------+----------------------------+---------------------+------------------------------+-------------------------+------------------------+-----------------------+---------------------+------------+------------------+----------+---------------------+---------+\n",
      "|                 uid|shop_cameras|shop_clothing|shop_computers|shop_cosmetics|shop_entertainment_equipment|shop_everyday_jewelry|shop_house_repairs_paint_tools|shop_household_appliances|shop_household_furniture|shop_kitchen_appliances|shop_kitchen_utensils|shop_luggage|shop_mobile_phones|shop_shoes|shop_sports_equipment|shop_toys|\n",
      "+--------------------+------------+-------------+--------------+--------------+----------------------------+---------------------+------------------------------+-------------------------+------------------------+-----------------------+---------------------+------------+------------------+----------+---------------------+---------+\n",
      "|310dfbe9-cac6-4d7...|           0|            0|             1|             0|                           2|                    0|                             0|                        0|                       0|                      0|                    0|           0|                 1|         0|                    0|        0|\n",
      "|094b1e7e-97a6-441...|           0|            0|             1|             0|                           1|                    0|                             0|                        0|                       0|                      0|                    0|           0|                 2|         0|                    0|        0|\n",
      "|cd7f1ce9-b4b9-44d...|           1|            0|             0|             0|                           0|                    0|                             0|                        1|                       0|                      0|                    0|           0|                 1|         1|                    0|        0|\n",
      "|4dbddd13-ece7-4c7...|           1|            0|             1|             0|                           1|                    0|                             0|                        0|                       0|                      0|                    0|           0|                 1|         0|                    0|        0|\n",
      "|65b22787-9d1e-4bf...|           1|            1|             1|             0|                           0|                    0|                             0|                        1|                       0|                      0|                    0|           0|                 0|         0|                    0|        0|\n",
      "|94554199-b798-4ac...|           0|            1|             0|             0|                           0|                    0|                             0|                        0|                       0|                      0|                    0|           0|                 0|         0|                    0|        0|\n",
      "|54cd0599-c87f-4cc...|           0|            1|             0|             0|                           0|                    0|                             0|                        0|                       0|                      0|                    0|           0|                 0|         0|                    0|        0|\n",
      "|39f042b4-4923-425...|           1|            1|             1|             0|                           0|                    0|                             0|                        1|                       0|                      0|                    0|           0|                 0|         0|                    0|        0|\n",
      "|1517b5ce-f67f-499...|           1|            1|             1|             0|                           0|                    0|                             0|                        1|                       0|                      0|                    0|           0|                 0|         0|                    0|        0|\n",
      "|2b36bc74-9f65-4b4...|           0|            1|             1|             0|                           1|                    0|                             0|                        0|                       1|                      0|                    0|           0|                 0|         0|                    0|        0|\n",
      "|9d0b38f1-ff13-4a0...|           0|            0|             0|             0|                           0|                    0|                             0|                        0|                       1|                      1|                    0|           0|                 1|         1|                    0|        0|\n",
      "|710b869e-95d8-473...|           0|            0|             0|             1|                           1|                    0|                             0|                        1|                       0|                      0|                    0|           0|                 0|         1|                    0|        0|\n",
      "|557b5627-c979-4e5...|           0|            0|             1|             0|                           1|                    0|                             0|                        0|                       1|                      1|                    0|           0|                 0|         0|                    0|        0|\n",
      "|3f77acbf-3dce-40a...|           0|            0|             1|             0|                           1|                    0|                             0|                        0|                       1|                      1|                    0|           0|                 0|         0|                    0|        0|\n",
      "|915e5edb-e2bb-4d0...|           0|            0|             0|             1|                           0|                    0|                             0|                        0|                       1|                      0|                    0|           0|                 0|         0|                    0|        0|\n",
      "|4480693e-bfb7-4cf...|           0|            0|             1|             0|                           1|                    0|                             0|                        0|                       1|                      1|                    0|           0|                 0|         0|                    0|        0|\n",
      "|55b4fbd5-6757-4c1...|           1|            1|             0|             0|                           0|                    0|                             0|                        1|                       0|                      0|                    0|           0|                 1|         0|                    0|        0|\n",
      "|4269e574-07a8-4bd...|           0|            0|             1|             0|                           2|                    0|                             0|                        0|                       0|                      0|                    0|           0|                 1|         0|                    0|        0|\n",
      "|29b41418-ceff-44a...|           1|            0|             0|             0|                           0|                    0|                             0|                        1|                       0|                      0|                    0|           0|                 1|         1|                    0|        0|\n",
      "|a3cf66ef-06e2-4c8...|           1|            0|             0|             0|                           0|                    0|                             0|                        1|                       0|                      1|                    0|           0|                 1|         0|                    0|        0|\n",
      "+--------------------+------------+-------------+--------------+--------------+----------------------------+---------------------+------------------------------+-------------------------+------------------------+-----------------------+---------------------+------------+------------------+----------+---------------------+---------+\n",
      "only showing top 20 rows\n",
      "\n"
     ]
    }
   ],
   "source": [
    "visits_pivot.show()"
   ]
  },
  {
   "cell_type": "code",
   "execution_count": 23,
   "metadata": {},
   "outputs": [],
   "source": [
    "web = sc.textFile(\"hdfs:///labs/laba03/weblogs.json\")"
   ]
  },
  {
   "cell_type": "code",
   "execution_count": 24,
   "metadata": {},
   "outputs": [
    {
     "data": {
      "text/plain": [
       "['{\"uid\":\"d50192e5-c44e-4ae8-ae7a-7cfe67c8b777\",\"visits\":[{\"timestamp\":1419688144068,\"url\":\"http://zebra-zoya.ru/200028-chehol-organayzer-dlja-macbook-11-grid-it.html?utm_campaign=397720794&utm_content=397729344&utm_medium=cpc&utm_source=begun\"},{\"timestamp\":1426666298001,\"url\":\"http://news.yandex.ru/yandsearch?cl4url=chezasite.com/htc/htc-one-m9-delay-86327.html&lr=213&rpt=story\"},{\"timestamp\":1426666298000,\"url\":\"http://www.sotovik.ru/news/240283-htc-one-m9-zaderzhivaetsja.html\"},{\"timestamp\":1426661722001,\"url\":\"http://news.yandex.ru/yandsearch?cl4url=chezasite.com/htc/htc-one-m9-delay-86327.html&lr=213&rpt=story\"},{\"timestamp\":1426661722000,\"url\":\"http://www.sotovik.ru/news/240283-htc-one-m9-zaderzhivaetsja.html\"}]}',\n",
       " '{\"uid\":\"d502331d-621e-4721-ada2-5d30b2c3801f\",\"visits\":[{\"timestamp\":1419717886224,\"url\":\"http://sweetrading.ru/?p=900\"},{\"timestamp\":1419717884437,\"url\":\"http://sweetrading.ru/?p=884\"},{\"timestamp\":1419717816375,\"url\":\"http://sweetrading.ru/?p=1002\"},{\"timestamp\":1419717804934,\"url\":\"http://101.ru/?an=port_channel_mp3\"},{\"timestamp\":1419714194423,\"url\":\"http://sweetrading.ru/?cat=62\"},{\"timestamp\":1419713998481,\"url\":\"http://sweetrading.ru/?p=1046\"},{\"timestamp\":1419713927085,\"url\":\"http://sweetrading.ru/?p=978\"},{\"timestamp\":1419713908863,\"url\":\"http://sweetrading.ru/?cat=171\"},{\"timestamp\":1419713908679,\"url\":\"http://sweetrading.ru/?cat=62\"},{\"timestamp\":1419713798879,\"url\":\"http://sweetrading.ru/?p=3648\"},{\"timestamp\":1419595564407,\"url\":\"http://oesex.ru/955457\"},{\"timestamp\":1419542965224,\"url\":\"http://www.interfax.ru/russia/408800\"},{\"timestamp\":1418818241900,\"url\":\"http://101.ru/?an=port_channel_mp3&channel=30\"},{\"timestamp\":1418802080857,\"url\":\"http://www.interfax.ru/russia/413508\"},{\"timestamp\":1418722961181,\"url\":\"http://www.euroavtoprokat.ru/sitemap/car-rental/france.htm\"},{\"timestamp\":1418722945825,\"url\":\"http://www.euroavtoprokat.ru/sitemap/car-rental.htm\"},{\"timestamp\":1418722937847,\"url\":\"http://www.euroavtoprokat.ru/car-rental/germany.htm\"},{\"timestamp\":1418722923196,\"url\":\"http://www.euroavtoprokat.ru/car-rental/germany.htm\"},{\"timestamp\":1418722909804,\"url\":\"http://www.euroavtoprokat.ru/sitemap/car-rental.htm\"},{\"timestamp\":1418646101953,\"url\":\"http://www.eavtoprokat.ru/prokat-avto/france\"},{\"timestamp\":1418592793587,\"url\":\"http://www.wordparts.ru/numeral/\"},{\"timestamp\":1418591162814,\"url\":\"http://rsdn.ru/forum/alg/3305190.flat\"},{\"timestamp\":1418571531780,\"url\":\"http://www.euroavtoprokat.ru/car-rental/turkey/istanbul.htm\"},{\"timestamp\":1418488992092,\"url\":\"http://citieslist.ru/\"},{\"timestamp\":1418480798674,\"url\":\"http://www.euroavtoprokat.ru/car-rental/turkey/istanbul.htm\"},{\"timestamp\":1418253037406,\"url\":\"http://rutv.ru/brand/show/episode/453757\"},{\"timestamp\":1418247198586,\"url\":\"http://www.fodors.com/community/europe/best-car-rental-company-in-italy.cfm\"},{\"timestamp\":1418245144696,\"url\":\"http://wheelsabroad.com/car-rental/united-kingdom/england/london?gclid=cjwkeaia-5-kbrdylpg5096r8masjabqedm4cmiichc-_-ewkbtsqyci5bu9ucwvjmxp4o0tficaarocljdw_wcb\"},{\"timestamp\":1418243376170,\"url\":\"http://lestinet.com/site/stopagent.ru\"},{\"timestamp\":1418169606439,\"url\":\"http://android-help.ru/q2a/16774/как-получить-root-права-на-philips-w832-android-4-0-4\"},{\"timestamp\":1418169602505,\"url\":\"http://club.dns-shop.ru/rabinovich/blog/я-все-еще-держусь-обзор-смартфона-philips-xenium-w832/\"},{\"timestamp\":1418167859617,\"url\":\"http://www.supportforum.philips.com/ru/showthread.php?1529-philips-xenium-w832/page6\"},{\"timestamp\":1418166430112,\"url\":\"http://www.supportforum.philips.com/ru/showthread.php?842-не-работает-gps-в-смартфоне-philips-xenium-w832\"},{\"timestamp\":1418114698621,\"url\":\"http://rabota.ua/info/jobsearcher/post/umora.aspx\"},{\"timestamp\":1418053557067,\"url\":\"http://www.enter.ru/product/appliances/myasorubka-philips-hr2728-2020103007131\"},{\"timestamp\":1417866883735,\"url\":\"http://www.ferra.ru/ru/byt/news/2013/12/02/polaris-pmg-1805/\"},{\"timestamp\":1417862586856,\"url\":\"http://www.ferra.ru/ru/byt/news/2013/10/12/bosch-mfw6-propower/\"},{\"timestamp\":1417856979616,\"url\":\"http://www.linotype.com/1266/neuehelvetica-family.html\"},{\"timestamp\":1417812010753,\"url\":\"http://www.linotype.com/1546/tradegothic-family.html?site=webfonts\"},{\"timestamp\":1417807232287,\"url\":\"http://www.vandelaydesign.com/best-ecommerce-website-designs/\"},{\"timestamp\":1417805189928,\"url\":\"http://www.awwwards.com/20-of-the-very-best-e-commerce-web-sites.html\"},{\"timestamp\":1417711286305,\"url\":\"http://101.ru/?an=port_channel_mp3&channel=82\"},{\"timestamp\":1417701042306,\"url\":\"http://www.just.ru/myasorubki/56658_elektromyasorybky_kenwood_mg_450/?from=yandex_msk&utm_source=yandex&utm_medium=cpc&utm_campaign=10817239_model_bytovaya-tehnika-melkaya_msk_p_api&utm_content=612422293_2792852770_мясорубку mg 450&position_type=premi\"},{\"timestamp\":1417695760398,\"url\":\"http://101.ru/?an=port_channel_mp3&channel=5\"},{\"timestamp\":1417689964129,\"url\":\"http://101.ru/?an=port_channel_mp3&channel=5\"},{\"timestamp\":1417683034834,\"url\":\"http://101.ru/?an=port_channel_mp3&channel=17\"},{\"timestamp\":1417608945879,\"url\":\"http://www.kenwoodworld.com/ru-ru/all-products/blenders-mixers-and-meat-grinders/meat-grinders-ru/-mg350-0w21910001\"},{\"timestamp\":1417605700777,\"url\":\"http://101.ru/?an=port_channel_mp3&channel=24\"},{\"timestamp\":1417605639264,\"url\":\"http://101.ru/?an=port_channel_mp3&channel=24\"},{\"timestamp\":1417605624817,\"url\":\"http://101.ru/?an=port_channel_mp3&channel=82\"},{\"timestamp\":1417604804579,\"url\":\"http://www.kenwoodworld.com/ru-ru/all-products/blenders-mixers-and-meat-grinders/meat-grinders-ru/mg470-meat-grinder-0wmg470008\"},{\"timestamp\":1417604730951,\"url\":\"http://livedemo00.template-help.com/magento_48517/blackberry-bold-9000-phone.html\"},{\"timestamp\":1417548651645,\"url\":\"http://www.kenwoodworld.com/ru-ru/all-products/blenders-mixers-and-meat-grinders/meat-grinders-ru/mg470-meat-grinder-0wmg470008\"},{\"timestamp\":1417548321763,\"url\":\"http://www.kenwoodworld.com/en-int/products/blenders/meat-grinders/mg474-meat-grinder\"},{\"timestamp\":1417548310507,\"url\":\"http://www.kenwoodworld.com/ru-ru/all-products/blenders-mixers-and-meat-grinders/meat-grinders-ru/-mg350-0w21910001\"},{\"timestamp\":1417548309162,\"url\":\"http://www.kenwoodworld.com/ru-ru/all-products/blenders-mixers-and-meat-grinders/meat-grinders-ru/-mg350-0w21910001\"},{\"timestamp\":1417548297576,\"url\":\"http://www.kenwoodworld.com/ru-ru/all-products/blenders-mixers-and-meat-grinders/meat-grinders-ru/-mg350-0w21910001?feat=6405fda1-43cc-42cc-8860-1c2a492555c5&tabsegment=key-features\"},{\"timestamp\":1417548284970,\"url\":\"http://www.kenwoodworld.com/ru-ru/all-products/blenders-mixers-and-meat-grinders/meat-grinders-ru/-mg350-0w21910001?tabsegment=key-features\"},{\"timestamp\":1417548264964,\"url\":\"http://www.kenwoodworld.com/ru-ru/all-products/blenders-mixers-and-meat-grinders/meat-grinders-ru/-mg350-0w21910001\"},{\"timestamp\":1417546314287,\"url\":\"http://www.kenwoodworld.com/en-int/products/blenders/meat-grinders\"},{\"timestamp\":1417545459520,\"url\":\"http://www.kenwoodworld.com/ru-ru/all-products/blenders-mixers-and-meat-grinders/meat-grinders-ru/mg700-meat-grinder-0wmg700006\"},{\"timestamp\":1417545200191,\"url\":\"http://www.kenwoodworld.com/ru-ru/all-products/blenders-mixers-and-meat-grinders/meat-grinders-ru/mg700-meat-grinder-0wmg700006\"},{\"timestamp\":1417545116313,\"url\":\"http://www.kenwoodworld.com/ru-ru/all-products/kmix-by-kenwood/kmix-kitchen-machines-/kmx51-kmix-kitchen-machine-0wkmx51002\"},{\"timestamp\":1417544991760,\"url\":\"http://www.kenwoodworld.com/ru-ru/all-products/blenders-mixers-and-meat-grinders/meat-grinders-ru/---mg517---0wmg517007\"},{\"timestamp\":1417544967371,\"url\":\"http://www.kenwoodworld.com/ru-ru/all-products/blenders-mixers-and-meat-grinders/meat-grinders-ru/-mg350-0w21910001\"},{\"timestamp\":1417544772661,\"url\":\"http://www.kenwoodworld.com/ru-ru/all-products/blenders-mixers-and-meat-grinders/meat-grinders-ru/-mg350-0w21910001?feat=ac86d868-3ea4-4523-93e1-885bbf4222cd&tabsegment=key-features\"},{\"timestamp\":1417544765049,\"url\":\"http://www.kenwoodworld.com/ru-ru/all-products/blenders-mixers-and-meat-grinders/meat-grinders-ru/-mg350-0w21910001?feat=3a288c22-e5f2-448e-a573-ccde95fd2341&tabsegment=key-features\"},{\"timestamp\":1417544748628,\"url\":\"http://www.kenwoodworld.com/ru-ru/all-products/blenders-mixers-and-meat-grinders/meat-grinders-ru/-mg350-0w21910001?feat=ac86d868-3ea4-4523-93e1-885bbf4222cd&tabsegment=key-features\"},{\"timestamp\":1417544731238,\"url\":\"http://www.kenwoodworld.com/ru-ru/all-products/blenders-mixers-and-meat-grinders/meat-grinders-ru/-mg350-0w21910001?tabsegment=key-features\"},{\"timestamp\":1417544522237,\"url\":\"http://www.kenwoodworld.com/ru-ru/all-products/blenders-mixers-and-meat-grinders/meat-grinders-ru/-mg350-0w21910001\"},{\"timestamp\":1417544351791,\"url\":\"http://www.kenwoodworld.com/ru-ru/all-products/blenders-mixers-and-meat-grinders/meat-grinders-ru/-mg350-0w21910001\"},{\"timestamp\":1417544282950,\"url\":\"http://www.kenwoodworld.com/ru-ru/all-products/blenders-mixers-and-meat-grinders/meat-grinders-ru/-mg350-0w21910001\"},{\"timestamp\":1417544269909,\"url\":\"http://www.kenwoodworld.com/ru-ru\"},{\"timestamp\":1417544204394,\"url\":\"http://www.kenwoodworld.com/ru-ru/all-products/blenders-mixers-and-meat-grinders/meat-grinders-ru/mg516-meat-grinder-and-roto-food-cutter-0wmg516006?tabsegment=specifications\"},{\"timestamp\":1417544190747,\"url\":\"http://www.kenwoodworld.com/ru-ru/all-products/blenders-mixers-and-meat-grinders/meat-grinders-ru/mg516-meat-grinder-and-roto-food-cutter-0wmg516006\"},{\"timestamp\":1417544045014,\"url\":\"http://www.kenwoodworld.com/ru-ru/all-products/blenders-mixers-and-meat-grinders/meat-grinders-ru/mg516-meat-grinder-and-roto-food-cutter-0wmg516006\"},{\"timestamp\":1417544035023,\"url\":\"http://www.kenwoodworld.com/ru-ru/all-products/blenders-mixers-and-meat-grinders/meat-grinders-ru/mg516-meat-grinder-and-roto-food-cutter-0wmg516006?tabsegment=specifications\"},{\"timestamp\":1417544015196,\"url\":\"http://www.kenwoodworld.com/ru-ru/all-products/blenders-mixers-and-meat-grinders/meat-grinders-ru/mg516-meat-grinder-and-roto-food-cutter-0wmg516006\"},{\"timestamp\":1417544004579,\"url\":\"http://www.kenwoodworld.com/ru-ru\"},{\"timestamp\":1417543914820,\"url\":\"http://www.kenwoodworld.com/ru-ru/all-products/blenders-mixers-and-meat-grinders/meat-grinders-ru/mg510-meat-grinder-0wmg510009?tabsegment=specifications\"},{\"timestamp\":1417543814629,\"url\":\"http://www.kenwoodworld.com/uk/search-results\"},{\"timestamp\":1417543642699,\"url\":\"http://www.kenwoodworld.com/uk/search-results\"},{\"timestamp\":1417543628088,\"url\":\"http://www.kenwoodworld.com/uk/search-results\"},{\"timestamp\":1417543616074,\"url\":\"http://www.kenwoodworld.com/uk/search-results\"},{\"timestamp\":1417543439173,\"url\":\"http://www.kenwoodworld.com/uk/products/food-mixers/chef-major-attachments/potato-peeler-at444-awat444001\"},{\"timestamp\":1417543352117,\"url\":\"http://www.kenwoodworld.com/uk/search-results\"},{\"timestamp\":1417543294005,\"url\":\"http://www.kenwoodworld.com/uk/search-results\"},{\"timestamp\":1417543192107,\"url\":\"http://www.kenwoodworld.com/uk/search-results\"},{\"timestamp\":1417543022466,\"url\":\"http://www.kenwoodworld.com/uk\"},{\"timestamp\":1417542940415,\"url\":\"http://www.kenwoodworld.com/ru-ru/all-products/blenders-mixers-and-meat-grinders/meat-grinders-ru/mg510-meat-grinder-0wmg510009?tabsegment=specifications\"},{\"timestamp\":1417542907491,\"url\":\"http://www.kenwoodworld.com/ru-ru/all-products/blenders-mixers-and-meat-grinders/meat-grinders-ru/mg510-meat-grinder-0wmg510009?tabsegment=support\"},{\"timestamp\":1417542866623,\"url\":\"http://www.kenwoodworld.com/ru-ru/all-products/blenders-mixers-and-meat-grinders/meat-grinders-ru/mg510-meat-grinder-0wmg510009?tabsegment=specifications\"},{\"timestamp\":1417542858206,\"url\":\"http://www.kenwoodworld.com/ru-ru/all-products/blenders-mixers-and-meat-grinders/meat-grinders-ru/mg510-meat-grinder-0wmg510009\"},{\"timestamp\":1417542839578,\"url\":\"http://www.kenwoodworld.com/ru-ru/all-products/blenders-mixers-and-meat-grinders/meat-grinders-ru/mg510-meat-grinder-0wmg510009\"},{\"timestamp\":1417542795850,\"url\":\"http://www.kenwoodworld.com/ru-ru/all-products/blenders-mixers-and-meat-grinders/meat-grinders-ru/mg510-meat-grinder-0wmg510009\"},{\"timestamp\":1417542742883,\"url\":\"http://www.kenwoodworld.com/ru-ru/all-products/blenders-mixers-and-meat-grinders/meat-grinders-ru/mg510-meat-grinder-0wmg510009\"},{\"timestamp\":1417542725367,\"url\":\"http://www.kenwoodworld.com/ru-ru/all-products/blenders-mixers-and-meat-grinders/meat-grinders-ru/mg510-meat-grinder-0wmg510009\"},{\"timestamp\":1417542659966,\"url\":\"http://www.kenwoodworld.com/ru-ru/all-products/blenders-mixers-and-meat-grinders/meat-grinders-ru/mg510-meat-grinder-0wmg510009\"},{\"timestamp\":1417542501523,\"url\":\"http://www.kenwoodworld.com/ru-ru\"},{\"timestamp\":1417542435930,\"url\":\"http://101.ru/?an=port_channel_mp3&channel=24\"},{\"timestamp\":1417473193974,\"url\":\"http://www.shop-script.ru/platform/\"},{\"timestamp\":1417451297674,\"url\":\"http://101.ru/?an=port_channel_mp3&channel=34\"}]}']"
      ]
     },
     "execution_count": 24,
     "metadata": {},
     "output_type": "execute_result"
    }
   ],
   "source": [
    "web.take(2)"
   ]
  },
  {
   "cell_type": "code",
   "execution_count": 25,
   "metadata": {},
   "outputs": [],
   "source": [
    "web = web.map(lambda x: json.loads(x))\n",
    "\n",
    "schema = StructType([\n",
    "    StructField('uid', StringType(), True),\n",
    "    StructField('visits', ArrayType(StringType()), True)\n",
    "])\n",
    "\n",
    "web_df = spark.createDataFrame(web, schema=schema)"
   ]
  },
  {
   "cell_type": "code",
   "execution_count": 26,
   "metadata": {},
   "outputs": [
    {
     "name": "stdout",
     "output_type": "stream",
     "text": [
      "+--------------------+--------------------+\n",
      "|                 uid|              visits|\n",
      "+--------------------+--------------------+\n",
      "|d50192e5-c44e-4ae...|[{url=http://zebr...|\n",
      "|d502331d-621e-472...|[{url=http://swee...|\n",
      "|d50237ea-747e-48a...|[{url=http://ru.o...|\n",
      "|d502f29f-d57a-46b...|[{url=http://tran...|\n",
      "|d503c3b2-a0c2-4f4...|[{url=https://mai...|\n",
      "|d5090ddf-5648-487...|[{url=https://cfi...|\n",
      "|d50bcef8-16ff-4e8...|[{url=http://www....|\n",
      "|d50e23dc-0cbd-488...|[{url=http://www....|\n",
      "|d50fdabb-4208-441...|[{url=http://life...|\n",
      "|d511b480-23a6-482...|[{url=https://www...|\n",
      "|d51294ed-1b95-4e4...|[{url=http://muz4...|\n",
      "|d512e295-6a85-491...|[{url=http://kosm...|\n",
      "|d51441ea-9dda-454...|[{url=http://andr...|\n",
      "|d51822d4-105b-457...|[{url=http://tsn....|\n",
      "|d5183db2-c8e5-413...|[{url=http://www....|\n",
      "|d51974e3-19c5-46d...|[{url=http://www....|\n",
      "|d51cba2e-f666-46d...|[{url=http://easy...|\n",
      "|d51dd42c-3b36-4a6...|[{url=http://www....|\n",
      "|d51fdc5e-8eae-4bb...|[{url=http://sam-...|\n",
      "|d522c18e-e38a-4b7...|[{url=http://www....|\n",
      "+--------------------+--------------------+\n",
      "only showing top 20 rows\n",
      "\n"
     ]
    }
   ],
   "source": [
    "web_df.show()"
   ]
  },
  {
   "cell_type": "code",
   "execution_count": 27,
   "metadata": {},
   "outputs": [
    {
     "data": {
      "text/plain": [
       "36138"
      ]
     },
     "execution_count": 27,
     "metadata": {},
     "output_type": "execute_result"
    }
   ],
   "source": [
    "web_df.count()"
   ]
  },
  {
   "cell_type": "code",
   "execution_count": 28,
   "metadata": {},
   "outputs": [],
   "source": [
    "my_udf = F.udf(lambda webs: [(web.split('/')[2].replace(\"www.\", \"\")) for web in webs], \n",
    "               ArrayType(StringType()))"
   ]
  },
  {
   "cell_type": "code",
   "execution_count": 29,
   "metadata": {},
   "outputs": [],
   "source": [
    "web_df_ = web_df\\\n",
    "    .withColumn(\"domains\", my_udf(F.col('visits')))\\\n",
    "    .withColumn(\"domain\", F.explode(F.col('domains')))\\\n",
    "    .select('uid', 'domain')"
   ]
  },
  {
   "cell_type": "code",
   "execution_count": 30,
   "metadata": {},
   "outputs": [],
   "source": [
    "web_df_ = web_df_.join(cats_, cats_.domain == web_df_.domain, 'inner')\\\n",
    "            .groupBy([\"uid\", \"category\"])\\\n",
    "            .count()\\"
   ]
  },
  {
   "cell_type": "code",
   "execution_count": 31,
   "metadata": {},
   "outputs": [],
   "source": [
    "web_pivot = web_df_\\\n",
    "    .groupBy(\"uid\")\\\n",
    "    .pivot(\"category\")\\\n",
    "    .agg(F.sum(\"count\"))\\\n",
    "    .na.fill(value=0)"
   ]
  },
  {
   "cell_type": "code",
   "execution_count": 33,
   "metadata": {},
   "outputs": [],
   "source": [
    "res = cl_\\\n",
    "    .join(visits_pivot, cl.uid == visits_pivot.uid, 'left')\\\n",
    "    .join(web_pivot, cl.uid == web_pivot.uid, 'left')\\\n",
    "    .na.fill(value=0)\\\n",
    "    .drop(visits_pivot.uid)\\\n",
    "    .drop(web_pivot.uid)"
   ]
  },
  {
   "cell_type": "code",
   "execution_count": 34,
   "metadata": {},
   "outputs": [
    {
     "data": {
      "text/plain": [
       "36138"
      ]
     },
     "execution_count": 34,
     "metadata": {},
     "output_type": "execute_result"
    }
   ],
   "source": [
    "res.count()"
   ]
  },
  {
   "cell_type": "code",
   "execution_count": 178,
   "metadata": {},
   "outputs": [
    {
     "name": "stdout",
     "output_type": "stream",
     "text": [
      "+--------------------+--------------------------+----------------------+----------------------+------------------------+-------------------------+------------------------+----------------------------+-----------+------------------+------------+---------+----------+-------------------+------------------------+----------------------+------------------+--------------------+--------------------------+-------------+-----------+------------+----------+----------+\n",
      "|                 uid|web_arts_and_entertainment|web_autos_and_vehicles|web_beauty_and_fitness|web_books_and_literature|web_business_and_industry|web_career_and_education|web_computer_and_electronics|web_finance|web_food_and_drink|web_gambling|web_games|web_health|web_home_and_garden|web_internet_and_telecom|web_law_and_government|web_news_and_media|web_pets_and_animals|web_recreation_and_hobbies|web_reference|web_science|web_shopping|web_sports|web_travel|\n",
      "+--------------------+--------------------------+----------------------+----------------------+------------------------+-------------------------+------------------------+----------------------------+-----------+------------------+------------+---------+----------+-------------------+------------------------+----------------------+------------------+--------------------+--------------------------+-------------+-----------+------------+----------+----------+\n",
      "|5e04693e-e583-48c...|                        74|                     0|                     0|                       0|                        0|                       0|                           0|          1|                 0|           0|        0|         4|                  0|                       1|                     0|               403|                   0|                         0|            2|          0|         206|         0|         0|\n",
      "|27f0a457-c86b-4d9...|                        12|                     0|                     0|                       0|                        4|                       3|                           0|          0|                 0|           0|        0|        11|                  0|                       0|                     0|                11|                   0|                         0|            0|          0|          50|         0|         0|\n",
      "|853148d9-6fff-4c4...|                         2|                     0|                     0|                       0|                        0|                       0|                           0|          2|                 0|           0|        0|         0|                  0|                       0|                     0|                 7|                   0|                         0|            0|          0|           1|         0|         3|\n",
      "|55872f59-b3bb-4e6...|                        98|                     1|                     0|                       0|                        0|                       0|                           0|          0|                 0|           0|        0|         0|                  0|                      60|                     0|               215|                   0|                         0|            1|          0|         775|         0|         0|\n",
      "|55b4fbd5-6757-4c1...|                         0|                     0|                    18|                       0|                        2|                       0|                           0|          0|                 0|           0|        0|        19|                  0|                       0|                     0|                 1|                   0|                         0|            0|          0|          83|         0|         0|\n",
      "|9b6c28ec-7abc-4f3...|                        10|                     0|                     0|                       0|                        0|                       0|                           0|          0|                 0|           0|        0|         0|                  0|                       0|                     0|                 4|                   0|                         0|            0|          0|           0|         0|         0|\n",
      "|b394a61f-7381-47d...|                        55|                     0|                     0|                       0|                       32|                       0|                           0|          1|                 0|           0|        0|         0|                  0|                       4|                     0|                16|                   0|                         0|            1|          0|          96|         0|         0|\n",
      "|cd10c157-9ce1-4b9...|                        23|                     0|                     0|                       0|                        1|                       0|                           0|          0|                 0|           0|        0|         0|                  0|                       0|                     0|                20|                   0|                         0|            0|          0|          11|         0|         0|\n",
      "|bc1a14df-2110-491...|                         0|                     0|                     0|                       0|                        0|                       0|                           0|          0|                 0|           0|        0|         0|                  0|                       0|                     0|                 0|                   0|                         0|            0|          0|           2|         0|         0|\n",
      "|552f8145-f5ea-4b9...|                        74|                     0|                     0|                       0|                        6|                       0|                           0|         10|                 0|           0|        1|         1|                  0|                       1|                     1|                11|                   0|                         0|            2|          0|         207|         0|         0|\n",
      "|b7899661-7d73-44c...|                         0|                     0|                     0|                       0|                        1|                       0|                           0|          0|                 0|           0|        0|         0|                  0|                       0|                     0|                 1|                   0|                         0|            0|          0|           0|         3|         0|\n",
      "|274c78c2-ae21-4a0...|                        34|                     0|                     0|                       0|                        1|                       0|                           0|          6|                 0|          11|        0|         0|                  0|                       0|                     0|                 1|                   0|                         0|            0|          0|           9|         0|         3|\n",
      "|6e323394-dd2d-424...|                         0|                     0|                     0|                       0|                        0|                       0|                           0|          0|                 0|           0|        0|         2|                  0|                       0|                     0|                 0|                   0|                         0|            0|          0|           0|         0|         0|\n",
      "|6709f8ad-3749-46e...|                         0|                     0|                     3|                       0|                        0|                       0|                           0|          0|                 0|           0|        0|         0|                  0|                       0|                     0|                 8|                   0|                         0|            0|          0|           0|         0|         0|\n",
      "|27264eec-e740-429...|                         3|                     0|                     0|                       0|                        3|                       0|                           0|          0|                 0|           0|        0|         0|                  0|                       0|                     0|               828|                   0|                         0|            0|          0|           2|         0|         0|\n",
      "|fc5f88c4-20a1-4f2...|                         2|                     0|                     0|                       3|                        0|                       0|                           0|          1|                 0|           0|        0|         0|                  0|                       0|                     0|                 1|                   0|                         0|            0|          0|           0|         0|         0|\n",
      "|cd90fa40-b226-43b...|                        29|                    23|                     2|                       0|                       12|                       0|                           0|          1|                 0|           0|        0|         4|                  0|                       0|                     1|                85|                   0|                         0|            0|          0|         204|         2|         0|\n",
      "|310dfbe9-cac6-4d7...|                        20|                     0|                     0|                       0|                        0|                       0|                           0|          0|                 0|           0|        0|         0|                  0|                       0|                     0|                 1|                   0|                         0|            0|          0|           2|         0|         0|\n",
      "|bff1167c-7fce-449...|                         0|                     0|                     0|                       0|                       57|                       0|                           0|          0|                 0|           0|        0|         2|                  0|                       0|                     0|                 0|                   0|                         0|            0|          0|           3|         0|         0|\n",
      "|9fcc20f8-b187-40a...|                        23|                     0|                     0|                       0|                        0|                       0|                           0|          0|                 0|           0|        0|         0|                  0|                       0|                     0|                45|                   0|                         0|            1|          0|           2|         0|         0|\n",
      "+--------------------+--------------------------+----------------------+----------------------+------------------------+-------------------------+------------------------+----------------------------+-----------+------------------+------------+---------+----------+-------------------+------------------------+----------------------+------------------+--------------------+--------------------------+-------------+-----------+------------+----------+----------+\n",
      "only showing top 20 rows\n",
      "\n"
     ]
    }
   ],
   "source": [
    "web_pivot.show()"
   ]
  },
  {
   "cell_type": "code",
   "execution_count": 36,
   "metadata": {},
   "outputs": [],
   "source": [
    "res.write\\\n",
    "    .format(\"jdbc\")\\\n",
    "    .option(\"url\", \"jdbc:postgresql://10.0.0.31:5432/an_en\")\\\n",
    "    .option(\"dbtable\", \"clients\")\\\n",
    "    .option(\"user\", username)\\\n",
    "    .option(\"password\", password)\\\n",
    "    .option(\"driver\", \"org.postgresql.Driver\")\\\n",
    "    .save()"
   ]
  },
  {
   "cell_type": "code",
   "execution_count": null,
   "metadata": {},
   "outputs": [],
   "source": []
  }
 ],
 "metadata": {
  "kernelspec": {
   "display_name": "Python 3",
   "language": "python",
   "name": "python3"
  },
  "language_info": {
   "codemirror_mode": {
    "name": "ipython",
    "version": 3
   },
   "file_extension": ".py",
   "mimetype": "text/x-python",
   "name": "python",
   "nbconvert_exporter": "python",
   "pygments_lexer": "ipython3",
   "version": "3.6.5"
  }
 },
 "nbformat": 4,
 "nbformat_minor": 2
}
